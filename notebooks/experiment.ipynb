{
 "cells": [
  {
   "metadata": {
    "collapsed": true,
    "ExecuteTime": {
     "end_time": "2024-12-19T23:42:56.617099Z",
     "start_time": "2024-12-19T23:42:55.762921Z"
    }
   },
   "cell_type": "code",
   "source": [
    "import numpy as np\n",
    "import math\n",
    "from collections import deque\n",
    "from torch import nn\n",
    "from src.utils.inference import *\n",
    "from src.game.tweny48 import *\n",
    "from src.game.dynamics import *\n",
    "import matplotlib.pyplot as plt\n",
    "\n",
    "\n",
    "\n",
    "device = \"cuda\" if torch.cuda.is_available() else \"cpu\"\n",
    "device\n",
    "\n",
    "\n",
    "\n",
    "\n"
   ],
   "id": "initial_id",
   "outputs": [
    {
     "data": {
      "text/plain": [
       "'cpu'"
      ]
     },
     "execution_count": 132,
     "metadata": {},
     "output_type": "execute_result"
    }
   ],
   "execution_count": 132
  },
  {
   "metadata": {
    "ExecuteTime": {
     "end_time": "2024-12-19T23:42:57.327513Z",
     "start_time": "2024-12-19T23:42:57.290700Z"
    }
   },
   "cell_type": "code",
   "source": [
    "def make_prediction(model: nn.Module ,state: np.ndarray) -> torch.tensor:\n",
    "    model.eval()\n",
    "    state = encode_state_batch([state])\n",
    "    device = get_device()\n",
    "    with torch.inference_mode():\n",
    "        state = state.to(get_device())\n",
    "        pred = model(state).to(device)\n",
    "\n",
    "    return pred"
   ],
   "id": "bee1bb423b71a",
   "outputs": [],
   "execution_count": 133
  },
  {
   "metadata": {
    "ExecuteTime": {
     "end_time": "2024-12-19T23:42:57.899619Z",
     "start_time": "2024-12-19T23:42:57.772668Z"
    }
   },
   "cell_type": "code",
   "source": [
    "class ConvBlock(nn.Module):\n",
    "    def __init__(self, in_channels, out_channels):\n",
    "        super(ConvBlock, self).__init__()\n",
    "        d = out_channels // 4\n",
    "        self.conv1 = nn.Conv2d(in_channels, d, 1, padding='same')\n",
    "        self.conv2 = nn.Conv2d(in_channels, d, 2, padding='same')\n",
    "        self.conv3 = nn.Conv2d(in_channels, d, 3, padding='same')\n",
    "        self.conv4 = nn.Conv2d(in_channels, d, 4, padding='same')\n",
    "\n",
    "    def forward(self, x):\n",
    "        output1 = self.conv1(x)\n",
    "        output2 = self.conv2(x)\n",
    "        output3 = self.conv3(x)\n",
    "        output4 = self.conv4(x)\n",
    "        return torch.cat((output1, output2, output3, output4), dim=1)\n",
    "\n",
    "class DQModelConvBlock(nn.Module):\n",
    "\n",
    "    def __init__(self, input_neurons: int, hidden_neurons: tuple, output_neurons: int, state_size: int, dropout: float = 0.5):\n",
    "        super().__init__()\n",
    "        self.input_block = nn.Sequential(\n",
    "            ConvBlock(in_channels= input_neurons,\n",
    "                      out_channels= hidden_neurons[0]),\n",
    "            nn.ReLU(),\n",
    "        )\n",
    "\n",
    "\n",
    "        self.hidden_blocks = nn.ModuleList()\n",
    "        for i in range(1, len(hidden_neurons)):\n",
    "            self.hidden_blocks.append(nn.Sequential(\n",
    "               ConvBlock(in_channels= hidden_neurons[i-1],\n",
    "                      out_channels= hidden_neurons[i]),\n",
    "               nn.ReLU(),\n",
    "            ))\n",
    "\n",
    "        flattened_in_features = hidden_neurons[-1]*(state_size**2)\n",
    "        flatten_out_features = hidden_neurons[-1] //2\n",
    "        self.output_block = nn.Sequential(\n",
    "            nn.Flatten(),\n",
    "            nn.Linear(in_features=flattened_in_features,\n",
    "                      out_features=flatten_out_features),\n",
    "            nn.Dropout(dropout),\n",
    "            nn.Linear(in_features=flatten_out_features,\n",
    "                      out_features=output_neurons)\n",
    "        )\n",
    "\n",
    "    def forward(self, x: torch.Tensor) -> torch.Tensor:\n",
    "        x = self.input_block(x)\n",
    "        for hidden_block in self.hidden_blocks:\n",
    "            x = hidden_block(x)\n",
    "        return self.output_block(x)"
   ],
   "id": "ebe30b1f931815f0",
   "outputs": [],
   "execution_count": 134
  },
  {
   "metadata": {
    "ExecuteTime": {
     "end_time": "2024-12-19T23:42:58.135715Z",
     "start_time": "2024-12-19T23:42:58.095363Z"
    }
   },
   "cell_type": "code",
   "source": [
    "class DQModel(nn.Module):\n",
    "\n",
    "    def __init__(self, input_neurons: int, hidden_neurons: tuple, output_neurons: int, state_size: int, dropout: float = 0.5):\n",
    "        super().__init__()\n",
    "        self.input_block = nn.Sequential(\n",
    "            nn.Conv2d(in_channels= input_neurons,\n",
    "                      out_channels= hidden_neurons[0],\n",
    "                      kernel_size=3,\n",
    "                      padding=\"same\"),\n",
    "            nn.BatchNorm2d(hidden_neurons[0]),\n",
    "            nn.ReLU(),\n",
    "        )\n",
    "\n",
    "\n",
    "        self.hidden_blocks = nn.ModuleList()\n",
    "        for i in range(1, len(hidden_neurons)):\n",
    "            self.hidden_blocks.append(nn.Sequential(\n",
    "               nn.Conv2d(in_channels= hidden_neurons[i-1],\n",
    "                      out_channels= hidden_neurons[i],\n",
    "                      kernel_size=2,\n",
    "                      padding=\"same\"),\n",
    "               nn.BatchNorm2d(hidden_neurons[i]),\n",
    "               nn.ReLU(),\n",
    "            ))\n",
    "\n",
    "        flattened_in_features = hidden_neurons[-1]*(state_size**2)\n",
    "        flatten_out_features = flattened_in_features // 2\n",
    "        self.output_block = nn.Sequential(\n",
    "            nn.Flatten(),\n",
    "            nn.Linear(in_features=flattened_in_features,\n",
    "                      out_features=flatten_out_features),\n",
    "            nn.BatchNorm1d(flatten_out_features),\n",
    "            nn.ReLU(),\n",
    "            nn.Dropout(dropout),\n",
    "            nn.Linear(in_features=flatten_out_features,\n",
    "                      out_features=output_neurons)\n",
    "        )\n",
    "\n",
    "    def forward(self, x: torch.Tensor) -> torch.Tensor:\n",
    "        x = self.input_block(x)\n",
    "        for hidden_block in self.hidden_blocks:\n",
    "            x = hidden_block(x)\n",
    "        return self.output_block(x)\n"
   ],
   "id": "f745afa9d63e57a8",
   "outputs": [],
   "execution_count": 135
  },
  {
   "metadata": {
    "ExecuteTime": {
     "end_time": "2024-12-19T23:42:58.566478Z",
     "start_time": "2024-12-19T23:42:58.540069Z"
    }
   },
   "cell_type": "code",
   "source": [
    "class ReplayBuffer(deque):\n",
    "\n",
    "    def __init__(self, capacity: int = 6000):\n",
    "        super().__init__(maxlen=capacity)\n",
    "        self.capacity: int = capacity\n",
    "\n",
    "    def append(self, transition):\n",
    "        super().append(transition)\n",
    "\n",
    "    def full(self) -> bool:\n",
    "        return len(self) >= self.maxlen\n",
    "\n",
    "    def sample(self, batch_size: int):\n",
    "        return random.sample(self, batch_size)\n",
    "\n"
   ],
   "id": "7a3ea84fd3e49c35",
   "outputs": [],
   "execution_count": 136
  },
  {
   "metadata": {
    "ExecuteTime": {
     "end_time": "2024-12-19T23:42:59.035669Z",
     "start_time": "2024-12-19T23:42:59.014175Z"
    }
   },
   "cell_type": "code",
   "source": [
    "def encode_state_batch(states: list[np.ndarray]):\n",
    "\n",
    "    states_flat = []\n",
    "    for state in states:\n",
    "        state_log = np.where(state == 0, 0, np.log2(state)).astype(np.int64)\n",
    "        states_flat.append(state_log)\n",
    "\n",
    "    states_tensor = torch.Tensor(np.array(states_flat)).long().to(get_device())\n",
    "\n",
    "    states_one_hot = torch.nn.functional.one_hot(states_tensor, num_classes=12).float().to(get_device())\n",
    "\n",
    "    states_one_hot = states_one_hot.permute(0, 3, 1, 2)\n",
    "\n",
    "    return states_one_hot"
   ],
   "id": "c8af033f85621bd7",
   "outputs": [],
   "execution_count": 137
  },
  {
   "metadata": {
    "ExecuteTime": {
     "end_time": "2024-12-19T23:42:59.578497Z",
     "start_time": "2024-12-19T23:42:59.547018Z"
    }
   },
   "cell_type": "code",
   "source": [
    "def get_reward1(current_state, next_state, actions, win_val):\n",
    "    reward = 0\n",
    "    result = check_terminal(next_state, actions, win_val)\n",
    "    if result ==\"W\":\n",
    "        reward += 10\n",
    "    elif result == \"L\":\n",
    "        reward -= 10\n",
    "    elif np.array_equal(current_state, next_state):\n",
    "        reward -= 5\n",
    "\n",
    "    return reward"
   ],
   "id": "977034aa96d133e7",
   "outputs": [],
   "execution_count": 138
  },
  {
   "metadata": {
    "ExecuteTime": {
     "end_time": "2024-12-19T23:43:00.412969Z",
     "start_time": "2024-12-19T23:43:00.104549Z"
    }
   },
   "cell_type": "code",
   "source": [
    "class DQL(Twenty48):\n",
    "\n",
    "    def __init__(self, win_val = 256, max_epsilon: float = 0.9, min_epsilon:float = 0.01, alpha: float = 0.00005):\n",
    "        super().__init__()\n",
    "        self.main_network: DQModelConvBlock = self.create_network().to(get_device())\n",
    "        self.target_network: DQModelConvBlock = self.create_network().to(get_device())\n",
    "        self.replay_buffer: ReplayBuffer = ReplayBuffer(6000)\n",
    "\n",
    "        self.max_epsilon = max_epsilon\n",
    "        self.min_epsilon = min_epsilon\n",
    "        self.win_val = win_val\n",
    "        self.epsilon = max_epsilon\n",
    "\n",
    "        self.loss_fn = nn.MSELoss()\n",
    "        self.optimizer = torch.optim.Adam(self.main_network.parameters(), lr=alpha)\n",
    "\n",
    "    def train(self, episodes, batch_size: int= 32):\n",
    "        results = []\n",
    "        total_scores = []\n",
    "        steps = 0\n",
    "        total_loss = 0\n",
    "\n",
    "        for episode in range(1, episodes):\n",
    "            while (result := check_terminal(self.environment, self.ACTIONS, self.win_val)) == \"\":\n",
    "                self.interact()\n",
    "                steps += 1\n",
    "            self.decay_epsilon(episode, episodes)\n",
    "\n",
    "            results.append(result)\n",
    "            if len(self.replay_buffer) > batch_size:\n",
    "                for _ in range(100):\n",
    "                    total_loss += self.update_main_network(self.loss_fn, self.optimizer, batch_size)\n",
    "\n",
    "            if episode % 20 == 0:\n",
    "                self.update_target_network()\n",
    "\n",
    "            if episode % 10 == 0:\n",
    "                win_rate = sum([1 for r in results if r == \"W\"]) / 10\n",
    "                print(f\"Episode: {episode} | Result: {win_rate} | Highest_Val: {np.max(self.environment)}| avg_steps: {steps/episode} | epsilon: {self.epsilon} | loss: {total_loss/(100*10)}\")\n",
    "                results = []\n",
    "                total_loss = 0\n",
    "\n",
    "            total_scores.append(self.total)\n",
    "            if episode > 50:\n",
    "                average = sum(total_scores[-50:]) / 50\n",
    "                print(f\"50 episode running average: {average}\")\n",
    "            self.reset()\n",
    "            self.total = 0\n",
    "\n",
    "\n",
    "    def interact(self):\n",
    "        current_state = self.copy()\n",
    "        action = self.get_action()\n",
    "        moved, merge_values = game_step(self.environment, action)\n",
    "        reward = get_reward1(current_state, self.environment,self.ACTIONS, self.win_val)\n",
    "        next_state = self.copy()\n",
    "        done = 1 if check_terminal(self.environment, self.ACTIONS) != \"\" else 0\n",
    "\n",
    "        self.total += sum(merge_values)\n",
    "\n",
    "        if check_terminal(self.environment, self.ACTIONS, self.win_val) != \"\" or len(self.replay_buffer) == 0 or (moved or merge_values):\n",
    "            self.replay_buffer.append((current_state, action, reward, next_state, done))\n",
    "\n",
    "    def decay_epsilon(self, episode, max_episodes, power: float= 1.2):\n",
    "        fraction = episode/max_episodes\n",
    "        self.epsilon = (self.max_epsilon - self.min_epsilon) * ((1 - fraction) ** power) + self.min_epsilon\n",
    "\n",
    "    def decay_epsilon1(self, episode, max_episodes, decay = 0.9999):\n",
    "        self.epsilon = max(self.min_epsilon, self.max_epsilon * (decay ** episode))\n",
    "\n",
    "    def update_target_network(self):\n",
    "        self.target_network.load_state_dict(self.main_network.state_dict())\n",
    "\n",
    "    def update_main_network(self, loss_fn, optimizer, batch_size: int, gamma: float= 0.9):\n",
    "        device = get_device()\n",
    "\n",
    "        batch = list(self.replay_buffer.sample(batch_size))\n",
    "        states = encode_state_batch([transition[0] for transition in batch]).to(get_device())\n",
    "        actions = [transition[1] for transition in batch]\n",
    "        rewards = torch.Tensor([transition[2] for transition in batch]).to(get_device())\n",
    "        next_states = encode_state_batch([transition[3] for transition in batch]).to(get_device())\n",
    "        dones = torch.Tensor([transition[4] for transition in batch]).to(get_device())\n",
    "\n",
    "        self.main_network.train()\n",
    "        self.target_network.eval()\n",
    "\n",
    "        main_y = self.main_network(states).to(device)\n",
    "\n",
    "        with torch.inference_mode():\n",
    "            target_y = self.target_network(next_states).to(device)\n",
    "\n",
    "        action_indices = [self.ACTIONS.index(action) for action in actions]\n",
    "        current_q_values = main_y[range(len(actions)), action_indices]\n",
    "\n",
    "        max_next_q_values = torch.amax(target_y, dim=1)\n",
    "\n",
    "        target_q_values = rewards + ((1 - dones) * (gamma * max_next_q_values))\n",
    "\n",
    "        loss_fn = nn.MSELoss()\n",
    "        loss = loss_fn(current_q_values, target_q_values)\n",
    "        optimizer.zero_grad()\n",
    "        loss.backward()\n",
    "        optimizer.step()\n",
    "\n",
    "        return loss.item()\n",
    "\n",
    "    def get_action(self) -> str:\n",
    "        if random.random() >= self.epsilon:\n",
    "            return self.get_best_action()\n",
    "        else:\n",
    "            return self.get_random_action()\n",
    "\n",
    "    def get_random_action(self) -> str:\n",
    "        invalid_actions = get_invalid_actions(self.environment, self.ACTIONS)\n",
    "        valid_actions = [action for action in self.ACTIONS if action not in invalid_actions]\n",
    "        return random.choice(self.ACTIONS)\n",
    "\n",
    "    def get_best_action(self) -> str:\n",
    "        invalid_actions  = get_invalid_actions(self.environment, self.ACTIONS)\n",
    "        invalid_indices = [i for i, action in enumerate(self.ACTIONS) if action in invalid_actions]\n",
    "\n",
    "        prediction = make_prediction(self.main_network, self.environment).squeeze()\n",
    "        masked_q_values = prediction.clone()\n",
    "        masked_q_values[invalid_indices] = -float('inf')\n",
    "        return self.ACTIONS[torch.argmax(prediction).item()]\n",
    "\n",
    "    def create_network(self, hidden_neurons: tuple = (64, 64, 64, 64), ):\n",
    "        return DQModelConvBlock(input_neurons=12,\n",
    "                       hidden_neurons=hidden_neurons,\n",
    "                       output_neurons=len(self.ACTIONS),\n",
    "                       state_size=len(self))\n",
    "\n",
    "    def update_target_network_advanced(self, tau: float = 0.001):\n",
    "        for target_param, main_param in zip(self.target_network.parameters(), self.main_network.parameters()):\n",
    "            target_param.data.copy_(\n",
    "                tau * main_param.data + (1.0 - tau) * target_param.data\n",
    "            )\n",
    "\n",
    "\n",
    "\n",
    "\n",
    "\n",
    "\n",
    "\n"
   ],
   "id": "2aee558d86a5f7ac",
   "outputs": [],
   "execution_count": 139
  },
  {
   "metadata": {
    "ExecuteTime": {
     "end_time": "2024-12-19T23:43:06.651186Z",
     "start_time": "2024-12-19T23:43:01.265829Z"
    }
   },
   "cell_type": "code",
   "source": [
    "dql = DQL()\n",
    "dql.train(200)"
   ],
   "id": "254ab713dfea36ad",
   "outputs": [
    {
     "name": "stderr",
     "output_type": "stream",
     "text": [
      "/var/folders/v8/_7nzg4ln01d8js37_knftkp40000gp/T/ipykernel_25904/1248462863.py:5: RuntimeWarning: divide by zero encountered in log2\n",
      "  state_log = np.where(state == 0, 0, np.log2(state)).astype(np.int64)\n"
     ]
    },
    {
     "ename": "KeyboardInterrupt",
     "evalue": "",
     "output_type": "error",
     "traceback": [
      "\u001B[0;31m---------------------------------------------------------------------------\u001B[0m",
      "\u001B[0;31mKeyboardInterrupt\u001B[0m                         Traceback (most recent call last)",
      "Cell \u001B[0;32mIn[140], line 2\u001B[0m\n\u001B[1;32m      1\u001B[0m dql \u001B[38;5;241m=\u001B[39m DQL()\n\u001B[0;32m----> 2\u001B[0m \u001B[43mdql\u001B[49m\u001B[38;5;241;43m.\u001B[39;49m\u001B[43mtrain\u001B[49m\u001B[43m(\u001B[49m\u001B[38;5;241;43m200\u001B[39;49m\u001B[43m)\u001B[49m\n",
      "Cell \u001B[0;32mIn[139], line 32\u001B[0m, in \u001B[0;36mDQL.train\u001B[0;34m(self, episodes, batch_size)\u001B[0m\n\u001B[1;32m     30\u001B[0m \u001B[38;5;28;01mif\u001B[39;00m \u001B[38;5;28mlen\u001B[39m(\u001B[38;5;28mself\u001B[39m\u001B[38;5;241m.\u001B[39mreplay_buffer) \u001B[38;5;241m>\u001B[39m batch_size:\n\u001B[1;32m     31\u001B[0m     \u001B[38;5;28;01mfor\u001B[39;00m _ \u001B[38;5;129;01min\u001B[39;00m \u001B[38;5;28mrange\u001B[39m(\u001B[38;5;241m100\u001B[39m):\n\u001B[0;32m---> 32\u001B[0m         total_loss \u001B[38;5;241m+\u001B[39m\u001B[38;5;241m=\u001B[39m \u001B[38;5;28;43mself\u001B[39;49m\u001B[38;5;241;43m.\u001B[39;49m\u001B[43mupdate_main_network\u001B[49m\u001B[43m(\u001B[49m\u001B[38;5;28;43mself\u001B[39;49m\u001B[38;5;241;43m.\u001B[39;49m\u001B[43mloss_fn\u001B[49m\u001B[43m,\u001B[49m\u001B[43m \u001B[49m\u001B[38;5;28;43mself\u001B[39;49m\u001B[38;5;241;43m.\u001B[39;49m\u001B[43moptimizer\u001B[49m\u001B[43m,\u001B[49m\u001B[43m \u001B[49m\u001B[43mbatch_size\u001B[49m\u001B[43m)\u001B[49m\n\u001B[1;32m     34\u001B[0m \u001B[38;5;28;01mif\u001B[39;00m episode \u001B[38;5;241m%\u001B[39m \u001B[38;5;241m20\u001B[39m \u001B[38;5;241m==\u001B[39m \u001B[38;5;241m0\u001B[39m:\n\u001B[1;32m     35\u001B[0m     \u001B[38;5;28mself\u001B[39m\u001B[38;5;241m.\u001B[39mupdate_target_network()\n",
      "Cell \u001B[0;32mIn[139], line 87\u001B[0m, in \u001B[0;36mDQL.update_main_network\u001B[0;34m(self, loss_fn, optimizer, batch_size, gamma)\u001B[0m\n\u001B[1;32m     84\u001B[0m \u001B[38;5;28mself\u001B[39m\u001B[38;5;241m.\u001B[39mmain_network\u001B[38;5;241m.\u001B[39mtrain()\n\u001B[1;32m     85\u001B[0m \u001B[38;5;28mself\u001B[39m\u001B[38;5;241m.\u001B[39mtarget_network\u001B[38;5;241m.\u001B[39meval()\n\u001B[0;32m---> 87\u001B[0m main_y \u001B[38;5;241m=\u001B[39m \u001B[38;5;28;43mself\u001B[39;49m\u001B[38;5;241;43m.\u001B[39;49m\u001B[43mmain_network\u001B[49m\u001B[43m(\u001B[49m\u001B[43mstates\u001B[49m\u001B[43m)\u001B[49m\u001B[38;5;241m.\u001B[39mto(device)\n\u001B[1;32m     89\u001B[0m \u001B[38;5;28;01mwith\u001B[39;00m torch\u001B[38;5;241m.\u001B[39minference_mode():\n\u001B[1;32m     90\u001B[0m     target_y \u001B[38;5;241m=\u001B[39m \u001B[38;5;28mself\u001B[39m\u001B[38;5;241m.\u001B[39mtarget_network(next_states)\u001B[38;5;241m.\u001B[39mto(device)\n",
      "File \u001B[0;32m~/PycharmProjects/2048/.venv/lib/python3.10/site-packages/torch/nn/modules/module.py:1511\u001B[0m, in \u001B[0;36mModule._wrapped_call_impl\u001B[0;34m(self, *args, **kwargs)\u001B[0m\n\u001B[1;32m   1509\u001B[0m     \u001B[38;5;28;01mreturn\u001B[39;00m \u001B[38;5;28mself\u001B[39m\u001B[38;5;241m.\u001B[39m_compiled_call_impl(\u001B[38;5;241m*\u001B[39margs, \u001B[38;5;241m*\u001B[39m\u001B[38;5;241m*\u001B[39mkwargs)  \u001B[38;5;66;03m# type: ignore[misc]\u001B[39;00m\n\u001B[1;32m   1510\u001B[0m \u001B[38;5;28;01melse\u001B[39;00m:\n\u001B[0;32m-> 1511\u001B[0m     \u001B[38;5;28;01mreturn\u001B[39;00m \u001B[38;5;28;43mself\u001B[39;49m\u001B[38;5;241;43m.\u001B[39;49m\u001B[43m_call_impl\u001B[49m\u001B[43m(\u001B[49m\u001B[38;5;241;43m*\u001B[39;49m\u001B[43margs\u001B[49m\u001B[43m,\u001B[49m\u001B[43m \u001B[49m\u001B[38;5;241;43m*\u001B[39;49m\u001B[38;5;241;43m*\u001B[39;49m\u001B[43mkwargs\u001B[49m\u001B[43m)\u001B[49m\n",
      "File \u001B[0;32m~/PycharmProjects/2048/.venv/lib/python3.10/site-packages/torch/nn/modules/module.py:1520\u001B[0m, in \u001B[0;36mModule._call_impl\u001B[0;34m(self, *args, **kwargs)\u001B[0m\n\u001B[1;32m   1515\u001B[0m \u001B[38;5;66;03m# If we don't have any hooks, we want to skip the rest of the logic in\u001B[39;00m\n\u001B[1;32m   1516\u001B[0m \u001B[38;5;66;03m# this function, and just call forward.\u001B[39;00m\n\u001B[1;32m   1517\u001B[0m \u001B[38;5;28;01mif\u001B[39;00m \u001B[38;5;129;01mnot\u001B[39;00m (\u001B[38;5;28mself\u001B[39m\u001B[38;5;241m.\u001B[39m_backward_hooks \u001B[38;5;129;01mor\u001B[39;00m \u001B[38;5;28mself\u001B[39m\u001B[38;5;241m.\u001B[39m_backward_pre_hooks \u001B[38;5;129;01mor\u001B[39;00m \u001B[38;5;28mself\u001B[39m\u001B[38;5;241m.\u001B[39m_forward_hooks \u001B[38;5;129;01mor\u001B[39;00m \u001B[38;5;28mself\u001B[39m\u001B[38;5;241m.\u001B[39m_forward_pre_hooks\n\u001B[1;32m   1518\u001B[0m         \u001B[38;5;129;01mor\u001B[39;00m _global_backward_pre_hooks \u001B[38;5;129;01mor\u001B[39;00m _global_backward_hooks\n\u001B[1;32m   1519\u001B[0m         \u001B[38;5;129;01mor\u001B[39;00m _global_forward_hooks \u001B[38;5;129;01mor\u001B[39;00m _global_forward_pre_hooks):\n\u001B[0;32m-> 1520\u001B[0m     \u001B[38;5;28;01mreturn\u001B[39;00m \u001B[43mforward_call\u001B[49m\u001B[43m(\u001B[49m\u001B[38;5;241;43m*\u001B[39;49m\u001B[43margs\u001B[49m\u001B[43m,\u001B[49m\u001B[43m \u001B[49m\u001B[38;5;241;43m*\u001B[39;49m\u001B[38;5;241;43m*\u001B[39;49m\u001B[43mkwargs\u001B[49m\u001B[43m)\u001B[49m\n\u001B[1;32m   1522\u001B[0m \u001B[38;5;28;01mtry\u001B[39;00m:\n\u001B[1;32m   1523\u001B[0m     result \u001B[38;5;241m=\u001B[39m \u001B[38;5;28;01mNone\u001B[39;00m\n",
      "Cell \u001B[0;32mIn[134], line 50\u001B[0m, in \u001B[0;36mDQModelConvBlock.forward\u001B[0;34m(self, x)\u001B[0m\n\u001B[1;32m     48\u001B[0m x \u001B[38;5;241m=\u001B[39m \u001B[38;5;28mself\u001B[39m\u001B[38;5;241m.\u001B[39minput_block(x)\n\u001B[1;32m     49\u001B[0m \u001B[38;5;28;01mfor\u001B[39;00m hidden_block \u001B[38;5;129;01min\u001B[39;00m \u001B[38;5;28mself\u001B[39m\u001B[38;5;241m.\u001B[39mhidden_blocks:\n\u001B[0;32m---> 50\u001B[0m     x \u001B[38;5;241m=\u001B[39m \u001B[43mhidden_block\u001B[49m\u001B[43m(\u001B[49m\u001B[43mx\u001B[49m\u001B[43m)\u001B[49m\n\u001B[1;32m     51\u001B[0m \u001B[38;5;28;01mreturn\u001B[39;00m \u001B[38;5;28mself\u001B[39m\u001B[38;5;241m.\u001B[39moutput_block(x)\n",
      "File \u001B[0;32m~/PycharmProjects/2048/.venv/lib/python3.10/site-packages/torch/nn/modules/module.py:1511\u001B[0m, in \u001B[0;36mModule._wrapped_call_impl\u001B[0;34m(self, *args, **kwargs)\u001B[0m\n\u001B[1;32m   1509\u001B[0m     \u001B[38;5;28;01mreturn\u001B[39;00m \u001B[38;5;28mself\u001B[39m\u001B[38;5;241m.\u001B[39m_compiled_call_impl(\u001B[38;5;241m*\u001B[39margs, \u001B[38;5;241m*\u001B[39m\u001B[38;5;241m*\u001B[39mkwargs)  \u001B[38;5;66;03m# type: ignore[misc]\u001B[39;00m\n\u001B[1;32m   1510\u001B[0m \u001B[38;5;28;01melse\u001B[39;00m:\n\u001B[0;32m-> 1511\u001B[0m     \u001B[38;5;28;01mreturn\u001B[39;00m \u001B[38;5;28;43mself\u001B[39;49m\u001B[38;5;241;43m.\u001B[39;49m\u001B[43m_call_impl\u001B[49m\u001B[43m(\u001B[49m\u001B[38;5;241;43m*\u001B[39;49m\u001B[43margs\u001B[49m\u001B[43m,\u001B[49m\u001B[43m \u001B[49m\u001B[38;5;241;43m*\u001B[39;49m\u001B[38;5;241;43m*\u001B[39;49m\u001B[43mkwargs\u001B[49m\u001B[43m)\u001B[49m\n",
      "File \u001B[0;32m~/PycharmProjects/2048/.venv/lib/python3.10/site-packages/torch/nn/modules/module.py:1520\u001B[0m, in \u001B[0;36mModule._call_impl\u001B[0;34m(self, *args, **kwargs)\u001B[0m\n\u001B[1;32m   1515\u001B[0m \u001B[38;5;66;03m# If we don't have any hooks, we want to skip the rest of the logic in\u001B[39;00m\n\u001B[1;32m   1516\u001B[0m \u001B[38;5;66;03m# this function, and just call forward.\u001B[39;00m\n\u001B[1;32m   1517\u001B[0m \u001B[38;5;28;01mif\u001B[39;00m \u001B[38;5;129;01mnot\u001B[39;00m (\u001B[38;5;28mself\u001B[39m\u001B[38;5;241m.\u001B[39m_backward_hooks \u001B[38;5;129;01mor\u001B[39;00m \u001B[38;5;28mself\u001B[39m\u001B[38;5;241m.\u001B[39m_backward_pre_hooks \u001B[38;5;129;01mor\u001B[39;00m \u001B[38;5;28mself\u001B[39m\u001B[38;5;241m.\u001B[39m_forward_hooks \u001B[38;5;129;01mor\u001B[39;00m \u001B[38;5;28mself\u001B[39m\u001B[38;5;241m.\u001B[39m_forward_pre_hooks\n\u001B[1;32m   1518\u001B[0m         \u001B[38;5;129;01mor\u001B[39;00m _global_backward_pre_hooks \u001B[38;5;129;01mor\u001B[39;00m _global_backward_hooks\n\u001B[1;32m   1519\u001B[0m         \u001B[38;5;129;01mor\u001B[39;00m _global_forward_hooks \u001B[38;5;129;01mor\u001B[39;00m _global_forward_pre_hooks):\n\u001B[0;32m-> 1520\u001B[0m     \u001B[38;5;28;01mreturn\u001B[39;00m \u001B[43mforward_call\u001B[49m\u001B[43m(\u001B[49m\u001B[38;5;241;43m*\u001B[39;49m\u001B[43margs\u001B[49m\u001B[43m,\u001B[49m\u001B[43m \u001B[49m\u001B[38;5;241;43m*\u001B[39;49m\u001B[38;5;241;43m*\u001B[39;49m\u001B[43mkwargs\u001B[49m\u001B[43m)\u001B[49m\n\u001B[1;32m   1522\u001B[0m \u001B[38;5;28;01mtry\u001B[39;00m:\n\u001B[1;32m   1523\u001B[0m     result \u001B[38;5;241m=\u001B[39m \u001B[38;5;28;01mNone\u001B[39;00m\n",
      "File \u001B[0;32m~/PycharmProjects/2048/.venv/lib/python3.10/site-packages/torch/nn/modules/container.py:217\u001B[0m, in \u001B[0;36mSequential.forward\u001B[0;34m(self, input)\u001B[0m\n\u001B[1;32m    215\u001B[0m \u001B[38;5;28;01mdef\u001B[39;00m \u001B[38;5;21mforward\u001B[39m(\u001B[38;5;28mself\u001B[39m, \u001B[38;5;28minput\u001B[39m):\n\u001B[1;32m    216\u001B[0m     \u001B[38;5;28;01mfor\u001B[39;00m module \u001B[38;5;129;01min\u001B[39;00m \u001B[38;5;28mself\u001B[39m:\n\u001B[0;32m--> 217\u001B[0m         \u001B[38;5;28minput\u001B[39m \u001B[38;5;241m=\u001B[39m \u001B[43mmodule\u001B[49m\u001B[43m(\u001B[49m\u001B[38;5;28;43minput\u001B[39;49m\u001B[43m)\u001B[49m\n\u001B[1;32m    218\u001B[0m     \u001B[38;5;28;01mreturn\u001B[39;00m \u001B[38;5;28minput\u001B[39m\n",
      "File \u001B[0;32m~/PycharmProjects/2048/.venv/lib/python3.10/site-packages/torch/nn/modules/module.py:1511\u001B[0m, in \u001B[0;36mModule._wrapped_call_impl\u001B[0;34m(self, *args, **kwargs)\u001B[0m\n\u001B[1;32m   1509\u001B[0m     \u001B[38;5;28;01mreturn\u001B[39;00m \u001B[38;5;28mself\u001B[39m\u001B[38;5;241m.\u001B[39m_compiled_call_impl(\u001B[38;5;241m*\u001B[39margs, \u001B[38;5;241m*\u001B[39m\u001B[38;5;241m*\u001B[39mkwargs)  \u001B[38;5;66;03m# type: ignore[misc]\u001B[39;00m\n\u001B[1;32m   1510\u001B[0m \u001B[38;5;28;01melse\u001B[39;00m:\n\u001B[0;32m-> 1511\u001B[0m     \u001B[38;5;28;01mreturn\u001B[39;00m \u001B[38;5;28;43mself\u001B[39;49m\u001B[38;5;241;43m.\u001B[39;49m\u001B[43m_call_impl\u001B[49m\u001B[43m(\u001B[49m\u001B[38;5;241;43m*\u001B[39;49m\u001B[43margs\u001B[49m\u001B[43m,\u001B[49m\u001B[43m \u001B[49m\u001B[38;5;241;43m*\u001B[39;49m\u001B[38;5;241;43m*\u001B[39;49m\u001B[43mkwargs\u001B[49m\u001B[43m)\u001B[49m\n",
      "File \u001B[0;32m~/PycharmProjects/2048/.venv/lib/python3.10/site-packages/torch/nn/modules/module.py:1520\u001B[0m, in \u001B[0;36mModule._call_impl\u001B[0;34m(self, *args, **kwargs)\u001B[0m\n\u001B[1;32m   1515\u001B[0m \u001B[38;5;66;03m# If we don't have any hooks, we want to skip the rest of the logic in\u001B[39;00m\n\u001B[1;32m   1516\u001B[0m \u001B[38;5;66;03m# this function, and just call forward.\u001B[39;00m\n\u001B[1;32m   1517\u001B[0m \u001B[38;5;28;01mif\u001B[39;00m \u001B[38;5;129;01mnot\u001B[39;00m (\u001B[38;5;28mself\u001B[39m\u001B[38;5;241m.\u001B[39m_backward_hooks \u001B[38;5;129;01mor\u001B[39;00m \u001B[38;5;28mself\u001B[39m\u001B[38;5;241m.\u001B[39m_backward_pre_hooks \u001B[38;5;129;01mor\u001B[39;00m \u001B[38;5;28mself\u001B[39m\u001B[38;5;241m.\u001B[39m_forward_hooks \u001B[38;5;129;01mor\u001B[39;00m \u001B[38;5;28mself\u001B[39m\u001B[38;5;241m.\u001B[39m_forward_pre_hooks\n\u001B[1;32m   1518\u001B[0m         \u001B[38;5;129;01mor\u001B[39;00m _global_backward_pre_hooks \u001B[38;5;129;01mor\u001B[39;00m _global_backward_hooks\n\u001B[1;32m   1519\u001B[0m         \u001B[38;5;129;01mor\u001B[39;00m _global_forward_hooks \u001B[38;5;129;01mor\u001B[39;00m _global_forward_pre_hooks):\n\u001B[0;32m-> 1520\u001B[0m     \u001B[38;5;28;01mreturn\u001B[39;00m \u001B[43mforward_call\u001B[49m\u001B[43m(\u001B[49m\u001B[38;5;241;43m*\u001B[39;49m\u001B[43margs\u001B[49m\u001B[43m,\u001B[49m\u001B[43m \u001B[49m\u001B[38;5;241;43m*\u001B[39;49m\u001B[38;5;241;43m*\u001B[39;49m\u001B[43mkwargs\u001B[49m\u001B[43m)\u001B[49m\n\u001B[1;32m   1522\u001B[0m \u001B[38;5;28;01mtry\u001B[39;00m:\n\u001B[1;32m   1523\u001B[0m     result \u001B[38;5;241m=\u001B[39m \u001B[38;5;28;01mNone\u001B[39;00m\n",
      "Cell \u001B[0;32mIn[134], line 11\u001B[0m, in \u001B[0;36mConvBlock.forward\u001B[0;34m(self, x)\u001B[0m\n\u001B[1;32m     10\u001B[0m \u001B[38;5;28;01mdef\u001B[39;00m \u001B[38;5;21mforward\u001B[39m(\u001B[38;5;28mself\u001B[39m, x):\n\u001B[0;32m---> 11\u001B[0m     output1 \u001B[38;5;241m=\u001B[39m \u001B[38;5;28;43mself\u001B[39;49m\u001B[38;5;241;43m.\u001B[39;49m\u001B[43mconv1\u001B[49m\u001B[43m(\u001B[49m\u001B[43mx\u001B[49m\u001B[43m)\u001B[49m\n\u001B[1;32m     12\u001B[0m     output2 \u001B[38;5;241m=\u001B[39m \u001B[38;5;28mself\u001B[39m\u001B[38;5;241m.\u001B[39mconv2(x)\n\u001B[1;32m     13\u001B[0m     output3 \u001B[38;5;241m=\u001B[39m \u001B[38;5;28mself\u001B[39m\u001B[38;5;241m.\u001B[39mconv3(x)\n",
      "File \u001B[0;32m~/PycharmProjects/2048/.venv/lib/python3.10/site-packages/torch/nn/modules/module.py:1511\u001B[0m, in \u001B[0;36mModule._wrapped_call_impl\u001B[0;34m(self, *args, **kwargs)\u001B[0m\n\u001B[1;32m   1509\u001B[0m     \u001B[38;5;28;01mreturn\u001B[39;00m \u001B[38;5;28mself\u001B[39m\u001B[38;5;241m.\u001B[39m_compiled_call_impl(\u001B[38;5;241m*\u001B[39margs, \u001B[38;5;241m*\u001B[39m\u001B[38;5;241m*\u001B[39mkwargs)  \u001B[38;5;66;03m# type: ignore[misc]\u001B[39;00m\n\u001B[1;32m   1510\u001B[0m \u001B[38;5;28;01melse\u001B[39;00m:\n\u001B[0;32m-> 1511\u001B[0m     \u001B[38;5;28;01mreturn\u001B[39;00m \u001B[38;5;28;43mself\u001B[39;49m\u001B[38;5;241;43m.\u001B[39;49m\u001B[43m_call_impl\u001B[49m\u001B[43m(\u001B[49m\u001B[38;5;241;43m*\u001B[39;49m\u001B[43margs\u001B[49m\u001B[43m,\u001B[49m\u001B[43m \u001B[49m\u001B[38;5;241;43m*\u001B[39;49m\u001B[38;5;241;43m*\u001B[39;49m\u001B[43mkwargs\u001B[49m\u001B[43m)\u001B[49m\n",
      "File \u001B[0;32m~/PycharmProjects/2048/.venv/lib/python3.10/site-packages/torch/nn/modules/module.py:1520\u001B[0m, in \u001B[0;36mModule._call_impl\u001B[0;34m(self, *args, **kwargs)\u001B[0m\n\u001B[1;32m   1515\u001B[0m \u001B[38;5;66;03m# If we don't have any hooks, we want to skip the rest of the logic in\u001B[39;00m\n\u001B[1;32m   1516\u001B[0m \u001B[38;5;66;03m# this function, and just call forward.\u001B[39;00m\n\u001B[1;32m   1517\u001B[0m \u001B[38;5;28;01mif\u001B[39;00m \u001B[38;5;129;01mnot\u001B[39;00m (\u001B[38;5;28mself\u001B[39m\u001B[38;5;241m.\u001B[39m_backward_hooks \u001B[38;5;129;01mor\u001B[39;00m \u001B[38;5;28mself\u001B[39m\u001B[38;5;241m.\u001B[39m_backward_pre_hooks \u001B[38;5;129;01mor\u001B[39;00m \u001B[38;5;28mself\u001B[39m\u001B[38;5;241m.\u001B[39m_forward_hooks \u001B[38;5;129;01mor\u001B[39;00m \u001B[38;5;28mself\u001B[39m\u001B[38;5;241m.\u001B[39m_forward_pre_hooks\n\u001B[1;32m   1518\u001B[0m         \u001B[38;5;129;01mor\u001B[39;00m _global_backward_pre_hooks \u001B[38;5;129;01mor\u001B[39;00m _global_backward_hooks\n\u001B[1;32m   1519\u001B[0m         \u001B[38;5;129;01mor\u001B[39;00m _global_forward_hooks \u001B[38;5;129;01mor\u001B[39;00m _global_forward_pre_hooks):\n\u001B[0;32m-> 1520\u001B[0m     \u001B[38;5;28;01mreturn\u001B[39;00m \u001B[43mforward_call\u001B[49m\u001B[43m(\u001B[49m\u001B[38;5;241;43m*\u001B[39;49m\u001B[43margs\u001B[49m\u001B[43m,\u001B[49m\u001B[43m \u001B[49m\u001B[38;5;241;43m*\u001B[39;49m\u001B[38;5;241;43m*\u001B[39;49m\u001B[43mkwargs\u001B[49m\u001B[43m)\u001B[49m\n\u001B[1;32m   1522\u001B[0m \u001B[38;5;28;01mtry\u001B[39;00m:\n\u001B[1;32m   1523\u001B[0m     result \u001B[38;5;241m=\u001B[39m \u001B[38;5;28;01mNone\u001B[39;00m\n",
      "File \u001B[0;32m~/PycharmProjects/2048/.venv/lib/python3.10/site-packages/torch/nn/modules/conv.py:460\u001B[0m, in \u001B[0;36mConv2d.forward\u001B[0;34m(self, input)\u001B[0m\n\u001B[1;32m    459\u001B[0m \u001B[38;5;28;01mdef\u001B[39;00m \u001B[38;5;21mforward\u001B[39m(\u001B[38;5;28mself\u001B[39m, \u001B[38;5;28minput\u001B[39m: Tensor) \u001B[38;5;241m-\u001B[39m\u001B[38;5;241m>\u001B[39m Tensor:\n\u001B[0;32m--> 460\u001B[0m     \u001B[38;5;28;01mreturn\u001B[39;00m \u001B[38;5;28;43mself\u001B[39;49m\u001B[38;5;241;43m.\u001B[39;49m\u001B[43m_conv_forward\u001B[49m\u001B[43m(\u001B[49m\u001B[38;5;28;43minput\u001B[39;49m\u001B[43m,\u001B[49m\u001B[43m \u001B[49m\u001B[38;5;28;43mself\u001B[39;49m\u001B[38;5;241;43m.\u001B[39;49m\u001B[43mweight\u001B[49m\u001B[43m,\u001B[49m\u001B[43m \u001B[49m\u001B[38;5;28;43mself\u001B[39;49m\u001B[38;5;241;43m.\u001B[39;49m\u001B[43mbias\u001B[49m\u001B[43m)\u001B[49m\n",
      "File \u001B[0;32m~/PycharmProjects/2048/.venv/lib/python3.10/site-packages/torch/nn/modules/conv.py:456\u001B[0m, in \u001B[0;36mConv2d._conv_forward\u001B[0;34m(self, input, weight, bias)\u001B[0m\n\u001B[1;32m    452\u001B[0m \u001B[38;5;28;01mif\u001B[39;00m \u001B[38;5;28mself\u001B[39m\u001B[38;5;241m.\u001B[39mpadding_mode \u001B[38;5;241m!=\u001B[39m \u001B[38;5;124m'\u001B[39m\u001B[38;5;124mzeros\u001B[39m\u001B[38;5;124m'\u001B[39m:\n\u001B[1;32m    453\u001B[0m     \u001B[38;5;28;01mreturn\u001B[39;00m F\u001B[38;5;241m.\u001B[39mconv2d(F\u001B[38;5;241m.\u001B[39mpad(\u001B[38;5;28minput\u001B[39m, \u001B[38;5;28mself\u001B[39m\u001B[38;5;241m.\u001B[39m_reversed_padding_repeated_twice, mode\u001B[38;5;241m=\u001B[39m\u001B[38;5;28mself\u001B[39m\u001B[38;5;241m.\u001B[39mpadding_mode),\n\u001B[1;32m    454\u001B[0m                     weight, bias, \u001B[38;5;28mself\u001B[39m\u001B[38;5;241m.\u001B[39mstride,\n\u001B[1;32m    455\u001B[0m                     _pair(\u001B[38;5;241m0\u001B[39m), \u001B[38;5;28mself\u001B[39m\u001B[38;5;241m.\u001B[39mdilation, \u001B[38;5;28mself\u001B[39m\u001B[38;5;241m.\u001B[39mgroups)\n\u001B[0;32m--> 456\u001B[0m \u001B[38;5;28;01mreturn\u001B[39;00m \u001B[43mF\u001B[49m\u001B[38;5;241;43m.\u001B[39;49m\u001B[43mconv2d\u001B[49m\u001B[43m(\u001B[49m\u001B[38;5;28;43minput\u001B[39;49m\u001B[43m,\u001B[49m\u001B[43m \u001B[49m\u001B[43mweight\u001B[49m\u001B[43m,\u001B[49m\u001B[43m \u001B[49m\u001B[43mbias\u001B[49m\u001B[43m,\u001B[49m\u001B[43m \u001B[49m\u001B[38;5;28;43mself\u001B[39;49m\u001B[38;5;241;43m.\u001B[39;49m\u001B[43mstride\u001B[49m\u001B[43m,\u001B[49m\n\u001B[1;32m    457\u001B[0m \u001B[43m                \u001B[49m\u001B[38;5;28;43mself\u001B[39;49m\u001B[38;5;241;43m.\u001B[39;49m\u001B[43mpadding\u001B[49m\u001B[43m,\u001B[49m\u001B[43m \u001B[49m\u001B[38;5;28;43mself\u001B[39;49m\u001B[38;5;241;43m.\u001B[39;49m\u001B[43mdilation\u001B[49m\u001B[43m,\u001B[49m\u001B[43m \u001B[49m\u001B[38;5;28;43mself\u001B[39;49m\u001B[38;5;241;43m.\u001B[39;49m\u001B[43mgroups\u001B[49m\u001B[43m)\u001B[49m\n",
      "\u001B[0;31mKeyboardInterrupt\u001B[0m: "
     ]
    }
   ],
   "execution_count": 140
  },
  {
   "metadata": {
    "ExecuteTime": {
     "end_time": "2024-12-19T23:46:04.290354Z",
     "start_time": "2024-12-19T23:46:04.245616Z"
    }
   },
   "cell_type": "code",
   "source": [
    "def trail_random_ai(ai, episodes: int) -> dict:\n",
    "    wins = 0\n",
    "    dic = {}\n",
    "    print(\"sum\")\n",
    "    for i in range(1, episodes):\n",
    "        while (result := check_terminal(ai.environment, ai.ACTIONS, ai.win_val)) == \"\":\n",
    "            action = ai.get_random_action()\n",
    "            moved, merge = game_step(ai.environment, action)\n",
    "            if not moved and not merge:\n",
    "                action = ai.get_random_action()\n",
    "                moved, merge = game_step(ai.environment, action)\n",
    "\n",
    "        max_val = np.max(ai.environment)\n",
    "        ai.reset()\n",
    "        wins += 1 if result == \"W\" else 0\n",
    "        if i % (episodes / 10) == 0:\n",
    "            print(i)\n",
    "        dic[max_val] = dic.get(max_val, 0) + 1\n",
    "    return dic"
   ],
   "id": "85af81524f263517",
   "outputs": [],
   "execution_count": 141
  },
  {
   "metadata": {
    "ExecuteTime": {
     "end_time": "2024-12-19T23:46:04.774653Z",
     "start_time": "2024-12-19T23:46:04.745417Z"
    }
   },
   "cell_type": "code",
   "source": [
    "def plot_graph(results:dict):\n",
    "    tile_values = [float(x) for x in results.keys()]\n",
    "    occurrences = list(results.values())\n",
    "    # Sort data for better visualization\n",
    "    sorted_data = sorted(zip(tile_values, occurrences), key=lambda x: x[0])\n",
    "    sorted_tiles, sorted_occurrences = zip(*sorted_data)\n",
    "\n",
    "    # Plotting\n",
    "    plt.figure(figsize=(8, 5))\n",
    "    plt.bar(sorted_tiles, sorted_occurrences, color='skyblue', edgecolor='black')\n",
    "    plt.xlabel(\"Tile Value\", fontsize=12)\n",
    "    plt.ylabel(\"Occurrences\", fontsize=12)\n",
    "    plt.title(\"Tile Occurrences in 2048\", fontsize=14)\n",
    "    plt.xticks(sorted_tiles)\n",
    "    plt.grid(axis='y', linestyle='--', alpha=0.7)\n",
    "    plt.show()"
   ],
   "id": "e72e0ad5387639cd",
   "outputs": [],
   "execution_count": 142
  },
  {
   "metadata": {
    "ExecuteTime": {
     "end_time": "2024-12-19T23:47:01.136339Z",
     "start_time": "2024-12-19T23:46:12.176980Z"
    }
   },
   "cell_type": "code",
   "source": "plot_graph(trail_random_ai(DQL(), 1000))",
   "id": "35efb3262d30fc",
   "outputs": [
    {
     "name": "stdout",
     "output_type": "stream",
     "text": [
      "sum\n",
      "100\n",
      "200\n",
      "300\n",
      "400\n",
      "500\n",
      "600\n",
      "700\n",
      "800\n",
      "900\n"
     ]
    },
    {
     "data": {
      "text/plain": [
       "<Figure size 800x500 with 1 Axes>"
      ],
      "image/png": "[encoded data removed]"
     },
     "metadata": {},
     "output_type": "display_data"
    }
   ],
   "execution_count": 144
  },
  {
   "metadata": {},
   "cell_type": "code",
   "outputs": [],
   "execution_count": null,
   "source": "",
   "id": "975dabe86fdea077"
  }
 ],
 "metadata": {
  "kernelspec": {
   "display_name": "Python 3",
   "language": "python",
   "name": "python3"
  },
  "language_info": {
   "codemirror_mode": {
    "name": "ipython",
    "version": 2
   },
   "file_extension": ".py",
   "mimetype": "text/x-python",
   "name": "python",
   "nbconvert_exporter": "python",
   "pygments_lexer": "ipython2",
   "version": "2.7.6"
  }
 },
 "nbformat": 4,
 "nbformat_minor": 5
}
