{
 "nbformat": 4,
 "nbformat_minor": 0,
 "metadata": {
  "colab": {
   "provenance": []
  },
  "kernelspec": {
   "name": "python3",
   "display_name": "Python 3 (ipykernel)",
   "language": "python"
  },
  "language_info": {
   "name": "python"
  }
 },
 "cells": [
  {
   "cell_type": "code",
   "metadata": {
    "id": "ywBBO9lHXFAn",
    "ExecuteTime": {
     "end_time": "2024-12-07T16:56:35.938188Z",
     "start_time": "2024-12-07T16:56:34.964126Z"
    }
   },
   "source": [
    "import numpy as np\n",
    "import random"
   ],
   "outputs": [],
   "execution_count": 1
  },
  {
   "cell_type": "code",
   "source": [
    "class Twenty48:\n",
    "\n",
    "    def __init__(self):\n",
    "        self.environment: np.ndarray = np.zeros((4,4))\n",
    "        self.ACTIONS: list= [\"UP\", \"DOWN\", \"LEFT\", \"RIGHT\"]\n",
    "\n",
    "    def check_action(self, action: str) -> bool:\n",
    "        return action in self.ACTIONS\n",
    "\n",
    "    def __setitem__(self, xy: tuple, value: int):\n",
    "        self.environment[xy] = value\n",
    "\n",
    "    def __getitem__(self, xy: tuple) -> int:\n",
    "        return self.environment[xy[0]][xy[1]]\n",
    "\n",
    "    def __str__(self) -> str:\n",
    "        return str(self.environment)\n",
    "\n",
    "    def __len__(self) -> int:\n",
    "        return len(self.environment)\n",
    "\n",
    "    def clear(self):\n",
    "        self.environment = np.zeros((4,4))\n",
    "\n",
    "d = Twenty48()\n",
    "d[(0,0)] = 2\n",
    "d[(1,0)] = 2\n",
    "d[(2,0)] = 2\n",
    "d[(3,0)] = 2\n",
    "d[(0,1)] = 2\n",
    "d[(0,2)] = 2\n",
    "d[(0,3)] = 2\n"
   ],
   "metadata": {
    "id": "yT2soISliMuK",
    "ExecuteTime": {
     "end_time": "2024-12-07T16:56:37.601906Z",
     "start_time": "2024-12-07T16:56:37.458413Z"
    }
   },
   "outputs": [],
   "execution_count": 4
  },
  {
   "cell_type": "code",
   "source": [
    "def check_terminal(state: np.ndarray) -> str:\n",
    "    if check_win(state):\n",
    "        return \"W\"\n",
    "    elif check_loss(state):\n",
    "        return \"L\"\n",
    "    else:\n",
    "        return \"\"\n",
    "\n",
    "def check_win(state: np.ndarray, win_val: int= 2048 ) -> bool:\n",
    "    return any(val == win_val for val in state.flat)\n",
    "\n",
    "def check_loss(state: np.ndarray) -> int:\n",
    "    return empty(state) is None\n",
    "\n",
    "\n",
    "def move(state: np.ndarray, action: str):\n",
    "    for i in range(len(state)):\n",
    "\n",
    "        free_pos = 0 if action in (\"UP\", \"LEFT\") else len(state) - 1 # \"left\" or \"right\"\n",
    "\n",
    "        for j in get_moving_range(state, action):\n",
    "            if action in (\"UP\", \"DOWN\"):\n",
    "                old_xy = (j, i)\n",
    "                new_xy = (free_pos, i)\n",
    "            else:  # \"left\" or \"right\"\n",
    "                old_xy = (i, j)\n",
    "                new_xy = (i, free_pos)\n",
    "\n",
    "            if state[old_xy] != 0:\n",
    "                if old_xy != new_xy:\n",
    "                    state[new_xy] = state[old_xy]\n",
    "                    delete(state, old_xy)\n",
    "\n",
    "                free_pos += 1 if action in (\"UP\", \"LEFT\") else -1\n",
    "\n",
    "def merge(state: np.ndarray, action: str):\n",
    "    for i in range(len(state)):\n",
    "        for j in get_moving_range(state, action):\n",
    "            old_xy = (j, i) if action in (\"UP\", \"DOWN\") else (i, j) # \"left\" or \"right\"\n",
    "            new_xy = (j+1, i) if action in (\"UP\", \"DOWN\") else (i, j+1) # \"left\" or \"right\"\n",
    "\n",
    "            if j < len(state) -1 and state[old_xy] != 0 and state[old_xy] == state[new_xy]:\n",
    "                state[new_xy] = state[new_xy] * 2\n",
    "                delete(state, old_xy)\n",
    "\n",
    "\n",
    "def get_moving_range(state: np.ndarray, action: str):\n",
    "    if action in (\"DOWN\", \"RIGHT\"):\n",
    "        return range(len(state) -1, -1, -1)\n",
    "    elif action in (\"UP\", \"LEFT\"):\n",
    "        return range(len(state))\n",
    "    else:\n",
    "        raise ValueError(\"Invalid action\")\n",
    "\n",
    "\n",
    "def create_random(\n",
    "        state: np.ndarray,\n",
    "        default_values: tuple= (2, 4),\n",
    "        default_probs: tuple= (0.9, 0.1)\n",
    "):\n",
    "    random_xy: tuple = random.choice(empty(state))\n",
    "    random_value: int = random.choices(\n",
    "        default_values, weights=default_probs\n",
    "    )[0]\n",
    "    state[random_xy] = random_value\n",
    "\n",
    "\n",
    "def empty(state: np.ndarray) -> list[tuple]:\n",
    "    return [\n",
    "        (i, j) for i in range(len(state)) for j in range(len(state)) if state[(i, j)] == 0\n",
    "        ]\n",
    "\n",
    "def delete(state: np.ndarray, xy: tuple):\n",
    "    state[xy] = 0"
   ],
   "metadata": {
    "id": "adzo6lbq5qMQ",
    "ExecuteTime": {
     "end_time": "2024-12-07T16:56:37.949929Z",
     "start_time": "2024-12-07T16:56:37.924117Z"
    }
   },
   "outputs": [],
   "execution_count": 5
  },
  {
   "cell_type": "code",
   "source": [
    "a = \"RIGHT\"\n",
    "print(d)\n",
    "move(d.environment, a)\n",
    "print(d)\n",
    "merge(d.environment, a)\n",
    "print(d)\n",
    "move(d.environment, a)\n",
    "print(d)"
   ],
   "metadata": {
    "colab": {
     "base_uri": "https://localhost:8080/"
    },
    "id": "Yd6FQFtGUJXA",
    "outputId": "baee8ab7-482e-49b4-cf7f-5b37711a5b3b",
    "ExecuteTime": {
     "end_time": "2024-12-07T16:57:54.097598Z",
     "start_time": "2024-12-07T16:57:54.080674Z"
    }
   },
   "outputs": [
    {
     "name": "stdout",
     "output_type": "stream",
     "text": [
      "[[4. 4. 0. 0.]\n",
      " [2. 0. 0. 0.]\n",
      " [2. 0. 0. 0.]\n",
      " [2. 0. 0. 0.]]\n",
      "[[0. 0. 4. 4.]\n",
      " [0. 0. 0. 2.]\n",
      " [0. 0. 0. 2.]\n",
      " [0. 0. 0. 2.]]\n",
      "[[0. 0. 0. 8.]\n",
      " [0. 0. 0. 2.]\n",
      " [0. 0. 0. 2.]\n",
      " [0. 0. 0. 2.]]\n",
      "[[0. 0. 0. 8.]\n",
      " [0. 0. 0. 2.]\n",
      " [0. 0. 0. 2.]\n",
      " [0. 0. 0. 2.]]\n"
     ]
    }
   ],
   "execution_count": 7
  }
 ]
}
